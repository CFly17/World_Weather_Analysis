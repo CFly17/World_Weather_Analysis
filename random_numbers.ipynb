{
 "cells": [
  {
   "cell_type": "code",
   "execution_count": 1,
   "id": "72e673f4",
   "metadata": {},
   "outputs": [],
   "source": [
    "# Import the random module.\n",
    "import random\n",
    "# Import the NumPy module.\n",
    "import numpy as np\n",
    "# Import timeit.\n",
    "import timeit"
   ]
  },
  {
   "cell_type": "code",
   "execution_count": 2,
   "id": "283f3961",
   "metadata": {},
   "outputs": [
    {
     "data": {
      "text/plain": [
       "-55"
      ]
     },
     "execution_count": 2,
     "metadata": {},
     "output_type": "execute_result"
    }
   ],
   "source": [
    "random.randint(-90, 90)"
   ]
  },
  {
   "cell_type": "code",
   "execution_count": 3,
   "id": "1cf8cd5a",
   "metadata": {},
   "outputs": [],
   "source": [
    "x = 1\n",
    "latitudes = []\n",
    "while x < 11:\n",
    "    random_lat = random.randint(-90, 89) + random.random()\n",
    "    latitudes.append(random_lat)\n",
    "    x += 1"
   ]
  },
  {
   "cell_type": "code",
   "execution_count": 4,
   "id": "0a28d5fc",
   "metadata": {},
   "outputs": [
    {
     "data": {
      "text/plain": [
       "[-84.04515447044419,\n",
       " -53.790793320860445,\n",
       " -20.257007939020248,\n",
       " -67.9301962385723,\n",
       " 83.16090648886522,\n",
       " 45.241253681675616,\n",
       " 37.248770918465894,\n",
       " 86.08853077201339,\n",
       " -7.580434394717715,\n",
       " -1.0696582302543276]"
      ]
     },
     "execution_count": 4,
     "metadata": {},
     "output_type": "execute_result"
    }
   ],
   "source": [
    "latitudes"
   ]
  },
  {
   "cell_type": "code",
   "execution_count": 5,
   "id": "da1df319",
   "metadata": {},
   "outputs": [],
   "source": [
    "# For the randrange() function, there is an option to add a step parameter \n",
    "# and set it equal to an integer, which will generate increments of a given \n",
    "# integer value, from the lower to the upper limit."
   ]
  },
  {
   "cell_type": "code",
   "execution_count": 6,
   "id": "ccacfae3",
   "metadata": {},
   "outputs": [
    {
     "data": {
      "text/plain": [
       "43"
      ]
     },
     "execution_count": 6,
     "metadata": {},
     "output_type": "execute_result"
    }
   ],
   "source": [
    "random.randrange(-90, 90, step=1)"
   ]
  },
  {
   "cell_type": "code",
   "execution_count": 7,
   "id": "21899996",
   "metadata": {},
   "outputs": [
    {
     "data": {
      "text/plain": [
       "-39"
      ]
     },
     "execution_count": 7,
     "metadata": {},
     "output_type": "execute_result"
    }
   ],
   "source": [
    "random.randrange(-90, 90, step=3)"
   ]
  },
  {
   "cell_type": "code",
   "execution_count": 8,
   "id": "f08366cf",
   "metadata": {},
   "outputs": [
    {
     "data": {
      "text/plain": [
       "-72.4257369108937"
      ]
     },
     "execution_count": 8,
     "metadata": {},
     "output_type": "execute_result"
    }
   ],
   "source": [
    "np.random.uniform(-90.000, 90.000)\n",
    "\n",
    "# Another option is to write the parameters as \n",
    "# np.random.uniform(low=-90, high=90)"
   ]
  },
  {
   "cell_type": "code",
   "execution_count": 9,
   "id": "d7defcb2",
   "metadata": {},
   "outputs": [
    {
     "data": {
      "text/plain": [
       "array([ 84.42333909,  -9.25836182, -43.75578367, -79.49016969,\n",
       "       -77.95561545,   4.18562087,  12.57837554,  89.32938463,\n",
       "         9.58543745,   8.97638098,  19.0159511 , -82.84330879,\n",
       "       -65.52137607, -76.48328034,  65.587213  ,   5.99965491,\n",
       "        46.51070884,  21.85839034,  71.38427106,  69.10401262,\n",
       "       -46.7084109 ,  11.24084264, -33.22802032,  14.18132494,\n",
       "       -46.44238237,   2.3178803 ,  71.26064853,  50.25675677,\n",
       "        -0.82202942,  20.40020042,  34.63125218, -20.4364854 ,\n",
       "        78.37254465,  32.29455928, -30.92903269,  23.76730885,\n",
       "        18.69989614,  45.50471576, -59.92152084, -67.46609262,\n",
       "       -63.03841352,  74.42456323, -64.1362845 ,  75.93177018,\n",
       "        23.98280248,  84.50196944, -74.3752024 ,  47.02641459,\n",
       "       -53.29820334,  15.57660643])"
      ]
     },
     "execution_count": 9,
     "metadata": {},
     "output_type": "execute_result"
    }
   ],
   "source": [
    "np.random.uniform(-90.000, 90.000, size=50)"
   ]
  },
  {
   "cell_type": "code",
   "execution_count": 10,
   "id": "a9d73199",
   "metadata": {},
   "outputs": [
    {
     "name": "stdout",
     "output_type": "stream",
     "text": [
      "11.3 µs ± 224 ns per loop (mean ± std. dev. of 7 runs, 100000 loops each)\n"
     ]
    }
   ],
   "source": [
    "%timeit np.random.uniform(-90.000, 90.000, size=1500)"
   ]
  },
  {
   "cell_type": "code",
   "execution_count": 11,
   "id": "facf0417",
   "metadata": {},
   "outputs": [
    {
     "name": "stdout",
     "output_type": "stream",
     "text": [
      "1.13 ms ± 27.9 µs per loop (mean ± std. dev. of 7 runs, 1000 loops each)\n"
     ]
    }
   ],
   "source": [
    "# Now we will do the same, using a while loop:\n",
    "\n",
    "def latitudes(size):\n",
    "    latitudes = []\n",
    "    x = 0\n",
    "    while x < (size):\n",
    "        random_lat = random.randint(-90, 90) + random.random()\n",
    "        latitudes.append(random_lat)\n",
    "        x += 1\n",
    "    return latitudes\n",
    "\n",
    "# Call the function with 1500.\n",
    "\n",
    "%timeit latitudes(1500)"
   ]
  },
  {
   "cell_type": "code",
   "execution_count": 12,
   "id": "060dc10b",
   "metadata": {},
   "outputs": [],
   "source": [
    "# Using the np.random.uniform(-90.000, 90.000, size=1500) is 100 times faster \n",
    "# than using the function, and our code is one line, whereas the function uses eight lines!"
   ]
  },
  {
   "cell_type": "code",
   "execution_count": null,
   "id": "0c67d2f7",
   "metadata": {},
   "outputs": [],
   "source": []
  }
 ],
 "metadata": {
  "kernelspec": {
   "display_name": "PythonData",
   "language": "python",
   "name": "pythondata"
  },
  "language_info": {
   "codemirror_mode": {
    "name": "ipython",
    "version": 3
   },
   "file_extension": ".py",
   "mimetype": "text/x-python",
   "name": "python",
   "nbconvert_exporter": "python",
   "pygments_lexer": "ipython3",
   "version": "3.9.7"
  }
 },
 "nbformat": 4,
 "nbformat_minor": 5
}
