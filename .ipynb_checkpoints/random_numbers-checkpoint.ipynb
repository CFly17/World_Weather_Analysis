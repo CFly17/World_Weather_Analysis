{
 "cells": [
  {
   "cell_type": "code",
   "execution_count": 1,
   "id": "72e673f4",
   "metadata": {},
   "outputs": [],
   "source": [
    "# Import the random module.\n",
    "import random\n",
    "# Import the NumPy module.\n",
    "import numpy as np\n",
    "# Import timeit.\n",
    "import timeit"
   ]
  },
  {
   "cell_type": "code",
   "execution_count": 2,
   "id": "283f3961",
   "metadata": {},
   "outputs": [
    {
     "data": {
      "text/plain": [
       "4"
      ]
     },
     "execution_count": 2,
     "metadata": {},
     "output_type": "execute_result"
    }
   ],
   "source": [
    "random.randint(-90, 90)"
   ]
  },
  {
   "cell_type": "code",
   "execution_count": 3,
   "id": "1cf8cd5a",
   "metadata": {},
   "outputs": [],
   "source": [
    "x = 1\n",
    "latitudes = []\n",
    "while x < 11:\n",
    "    random_lat = random.randint(-90, 89) + random.random()\n",
    "    latitudes.append(random_lat)\n",
    "    x += 1"
   ]
  },
  {
   "cell_type": "code",
   "execution_count": 4,
   "id": "0a28d5fc",
   "metadata": {},
   "outputs": [
    {
     "data": {
      "text/plain": [
       "[-63.41070862183391,\n",
       " -17.07181978750584,\n",
       " -10.069511597482144,\n",
       " 88.78648051374856,\n",
       " -14.791994036730278,\n",
       " 11.294705817373801,\n",
       " -31.777734849473315,\n",
       " 16.45091181653564,\n",
       " 30.932763265234584,\n",
       " 44.281434905060074]"
      ]
     },
     "execution_count": 4,
     "metadata": {},
     "output_type": "execute_result"
    }
   ],
   "source": [
    "latitudes"
   ]
  },
  {
   "cell_type": "code",
   "execution_count": 5,
   "id": "da1df319",
   "metadata": {},
   "outputs": [],
   "source": [
    "# For the randrange() function, there is an option to add a step parameter \n",
    "# and set it equal to an integer, which will generate increments of a given \n",
    "# integer value, from the lower to the upper limit."
   ]
  },
  {
   "cell_type": "code",
   "execution_count": 6,
   "id": "ccacfae3",
   "metadata": {},
   "outputs": [
    {
     "data": {
      "text/plain": [
       "-75"
      ]
     },
     "execution_count": 6,
     "metadata": {},
     "output_type": "execute_result"
    }
   ],
   "source": [
    "random.randrange(-90, 90, step=1)"
   ]
  },
  {
   "cell_type": "code",
   "execution_count": 7,
   "id": "21899996",
   "metadata": {},
   "outputs": [
    {
     "data": {
      "text/plain": [
       "33"
      ]
     },
     "execution_count": 7,
     "metadata": {},
     "output_type": "execute_result"
    }
   ],
   "source": [
    "random.randrange(-90, 90, step=3)"
   ]
  },
  {
   "cell_type": "code",
   "execution_count": 8,
   "id": "f08366cf",
   "metadata": {},
   "outputs": [
    {
     "data": {
      "text/plain": [
       "-18.444441387604158"
      ]
     },
     "execution_count": 8,
     "metadata": {},
     "output_type": "execute_result"
    }
   ],
   "source": [
    "np.random.uniform(-90.000, 90.000)\n",
    "\n",
    "# Another option is to write the parameters as \n",
    "# np.random.uniform(low=-90, high=90)"
   ]
  },
  {
   "cell_type": "code",
   "execution_count": 9,
   "id": "d7defcb2",
   "metadata": {},
   "outputs": [
    {
     "data": {
      "text/plain": [
       "array([-24.32089218,  26.61112418,  70.39573951,  80.7078398 ,\n",
       "         1.23579173, -52.52690234,  53.00607695,  35.60560419,\n",
       "        36.96008459, -65.00006368,  74.73984161, -64.01721371,\n",
       "        50.85623593,  75.25561705, -42.30927383,  13.85569083,\n",
       "       -59.06889386,  34.34247785, -12.35048154,   4.71075761,\n",
       "        73.46881149, -29.00506504, -10.34552696, -34.52618268,\n",
       "       -61.12959938,  83.19702754, -85.32994516,  87.22935266,\n",
       "        30.05842642,  40.50846203,  80.36873309,  66.02712486,\n",
       "       -29.80746164, -48.1802239 ,  39.81060344,   3.98306837,\n",
       "       -23.61064773, -85.81736497,  50.90394827,  80.03273306,\n",
       "       -12.00027697,  83.41288647,  42.27491625, -10.00868128,\n",
       "        60.07849015, -59.14065524,  -0.47680629, -63.1027798 ,\n",
       "       -54.34572267,  10.12081249])"
      ]
     },
     "execution_count": 9,
     "metadata": {},
     "output_type": "execute_result"
    }
   ],
   "source": [
    "np.random.uniform(-90.000, 90.000, size=50)"
   ]
  },
  {
   "cell_type": "code",
   "execution_count": 10,
   "id": "a9d73199",
   "metadata": {},
   "outputs": [
    {
     "name": "stdout",
     "output_type": "stream",
     "text": [
      "16 µs ± 746 ns per loop (mean ± std. dev. of 7 runs, 100000 loops each)\n"
     ]
    }
   ],
   "source": [
    "%timeit np.random.uniform(-90.000, 90.000, size=1500)"
   ]
  },
  {
   "cell_type": "code",
   "execution_count": 11,
   "id": "facf0417",
   "metadata": {},
   "outputs": [
    {
     "name": "stdout",
     "output_type": "stream",
     "text": [
      "2.32 ms ± 290 µs per loop (mean ± std. dev. of 7 runs, 100 loops each)\n"
     ]
    }
   ],
   "source": [
    "# Now we will do the same, using a while loop:\n",
    "\n",
    "def latitudes(size):\n",
    "    latitudes = []\n",
    "    x = 0\n",
    "    while x < (size):\n",
    "        random_lat = random.randint(-90, 90) + random.random()\n",
    "        latitudes.append(random_lat)\n",
    "        x += 1\n",
    "    return latitudes\n",
    "\n",
    "# Call the function with 1500.\n",
    "\n",
    "%timeit latitudes(1500)"
   ]
  },
  {
   "cell_type": "code",
   "execution_count": null,
   "id": "060dc10b",
   "metadata": {},
   "outputs": [],
   "source": [
    "# Using the np.random.uniform(-90.000, 90.000, size=1500) is 100 times faster \n",
    "# than using the function, and our code is one line, whereas the function uses eight lines!"
   ]
  },
  {
   "cell_type": "code",
   "execution_count": null,
   "id": "0c67d2f7",
   "metadata": {},
   "outputs": [],
   "source": []
  }
 ],
 "metadata": {
  "kernelspec": {
   "display_name": "PythonData",
   "language": "python",
   "name": "pythondata"
  },
  "language_info": {
   "codemirror_mode": {
    "name": "ipython",
    "version": 3
   },
   "file_extension": ".py",
   "mimetype": "text/x-python",
   "name": "python",
   "nbconvert_exporter": "python",
   "pygments_lexer": "ipython3",
   "version": "3.9.7"
  }
 },
 "nbformat": 4,
 "nbformat_minor": 5
}
